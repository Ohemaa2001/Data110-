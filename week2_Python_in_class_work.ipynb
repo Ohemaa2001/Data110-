{
  "nbformat": 4,
  "nbformat_minor": 0,
  "metadata": {
    "colab": {
      "private_outputs": true,
      "provenance": [],
      "include_colab_link": true
    },
    "kernelspec": {
      "name": "python3",
      "display_name": "Python 3"
    },
    "language_info": {
      "name": "python"
    }
  },
  "cells": [
    {
      "cell_type": "markdown",
      "metadata": {
        "id": "view-in-github",
        "colab_type": "text"
      },
      "source": [
        "<a href=\"https://colab.research.google.com/github/Ohemaa2001/Data110-/blob/main/week2_Python_in_class_work.ipynb\" target=\"_parent\"><img src=\"https://colab.research.google.com/assets/colab-badge.svg\" alt=\"Open In Colab\"/></a>"
      ]
    },
    {
      "cell_type": "code",
      "execution_count": null,
      "metadata": {
        "id": "DAroNGSu9Gzb"
      },
      "outputs": [],
      "source": [
        "import matplotlib.pyplot as plt\n",
        "import numpy as np\n",
        "import pandas as pd\n"
      ]
    },
    {
      "cell_type": "code",
      "source": [
        "import matplotlib.pyplot as plt\n",
        "import numpy as np\n",
        "import pandas as pd"
      ],
      "metadata": {
        "id": "O3rGs2IZgXr7"
      },
      "execution_count": null,
      "outputs": []
    },
    {
      "cell_type": "code",
      "source": [
        "# Load the dataset\n",
        "df=pd.read_csv('/box_office_data-2.csv')\n",
        "\n"
      ],
      "metadata": {
        "id": "wvCuhV-AABjG"
      },
      "execution_count": null,
      "outputs": []
    },
    {
      "cell_type": "code",
      "source": [
        "# 1. View the first few rows\n",
        "print(df.head())\n",
        "\n",
        "\n",
        "\n"
      ],
      "metadata": {
        "collapsed": true,
        "id": "vH7Dsr1LATWN"
      },
      "execution_count": null,
      "outputs": []
    },
    {
      "cell_type": "code",
      "source": [
        "# 2. Get summary statistics\n",
        "print(df.describe())\n"
      ],
      "metadata": {
        "id": "EVK57mN4AesS"
      },
      "execution_count": null,
      "outputs": []
    },
    {
      "cell_type": "code",
      "source": [
        "# 3. Check the shape (rows, columns)\n",
        "print(df.shape)"
      ],
      "metadata": {
        "id": "8FB68OzAAgZU"
      },
      "execution_count": null,
      "outputs": []
    },
    {
      "cell_type": "code",
      "source": [
        "\n",
        "# 4. View column names\n",
        "print(df.columns)\n"
      ],
      "metadata": {
        "id": "5ImRfHfTAc-I"
      },
      "execution_count": null,
      "outputs": []
    },
    {
      "cell_type": "code",
      "source": [
        "\n",
        "# 5. Get data types and info\n",
        "print(df.info())\n",
        "\n"
      ],
      "metadata": {
        "id": "5njPiqu5Aj3-"
      },
      "execution_count": null,
      "outputs": []
    },
    {
      "cell_type": "code",
      "source": [
        "\n",
        "\n",
        "\n",
        "# 6. Count unique values in the 'Country' column (or any other relevant column)\n",
        "print(df['average'].value_counts())\n",
        "print(df['gross'].value_counts())\n",
        "print(df['lw'].value_counts())\n",
        "print(df['theaters'].value_counts())\n",
        "print(df['change'].value_counts())\n",
        "print(df['total_gross'].value_counts())\n",
        "print(df['weeks'].value_counts())\n",
        "print(df['distributor'].value_counts())"
      ],
      "metadata": {
        "id": "0LaQjSbpAkvy"
      },
      "execution_count": null,
      "outputs": []
    },
    {
      "cell_type": "markdown",
      "source": [
        "### Example 1: Happiness Score vs. Log GDP per Capita"
      ],
      "metadata": {
        "id": "KUDtYH4yB6YB"
      }
    },
    {
      "cell_type": "code",
      "source": [
        "import matplotlib.pyplot as plt\n",
        "import numpy as np"
      ],
      "metadata": {
        "id": "2LEhPFShguyk"
      },
      "execution_count": null,
      "outputs": []
    },
    {
      "cell_type": "code",
      "source": [
        "plt.scatter(df['weeks'], df['distributor'])\n",
        "plt.xlabel('weeks')\n",
        "plt.ylabel('distributor')\n",
        "plt.title('box_office_data-2.csv')\n",
        "plt.show()"
      ],
      "metadata": {
        "id": "RfCZjPf5fA1g"
      },
      "execution_count": null,
      "outputs": []
    },
    {
      "cell_type": "markdown",
      "source": [
        "### Example 2: Happiness Score vs. Healthy Life Expectancy"
      ],
      "metadata": {
        "id": "H3pweJodB_Y3"
      }
    },
    {
      "cell_type": "markdown",
      "source": [
        "### Additional Tasks:\n",
        "- **Happiness Score vs Social Support** (`Social support`)\n",
        "- **Happiness Score vs Freedom to Make Life Choices** (`Freedom to make life choices`)\n",
        "- **Happiness Score vs Generosity** (`Generosity`)\n",
        "\n",
        "Update your code using the correct column names based on this.\n",
        "\n",
        "### Extra Task:\n",
        "Create **two scatter plots** using columns that do not have a meaningful relationship. For example, you might plot **Generosity** against **Healthy Life Expectancy**."
      ],
      "metadata": {
        "id": "dXSKLCAWCN0H"
      }
    },
    {
      "cell_type": "code",
      "source": [
        "\n",
        "plt.scatter(df['gross'], df['theaters'])\n",
        "plt.xlabel('gross')\n",
        "plt.ylabel('theaters')\n",
        "plt.title('box_office_data-2.csv')\n",
        "plt.show()"
      ],
      "metadata": {
        "id": "U3BjMaVHCjGx"
      },
      "execution_count": null,
      "outputs": []
    },
    {
      "cell_type": "code",
      "source": [
        "plt.scatter(df['rank'], df['total_gross'])\n",
        "plt.xlabel('rank')\n",
        "plt.ylabel('total_gross')\n",
        "plt.title('box_office_data-2.csv')\n",
        "plt.show()"
      ],
      "metadata": {
        "id": "5kH2OOaGCnih"
      },
      "execution_count": null,
      "outputs": []
    },
    {
      "cell_type": "code",
      "source": [
        "plt.scatter(df['gross'], df['change'])\n",
        "plt.xlabel('gross')\n",
        "plt.ylabel('change')\n",
        "plt.title('box_office_data-2.csv')\n",
        "plt.show()"
      ],
      "metadata": {
        "id": "rzNLEuFLCsAW"
      },
      "execution_count": null,
      "outputs": []
    },
    {
      "cell_type": "code",
      "source": [
        "plt.scatter(df['distributor'], df['change'])\n",
        "plt.xlabel('distributor')\n",
        "plt.ylabel('change')\n",
        "plt.title('box_office_data-2.csv')\n",
        "plt.show()"
      ],
      "metadata": {
        "id": "e9naX04eCxFX"
      },
      "execution_count": null,
      "outputs": []
    },
    {
      "cell_type": "code",
      "source": [
        "plt.scatter(df['release'], df['change'])\n",
        "plt.xlabel('release')\n",
        "plt.ylabel('change')\n",
        "plt.title('box_office_data-2.csv')\n",
        "plt.show()"
      ],
      "metadata": {
        "id": "uDAXQVa9C0yE"
      },
      "execution_count": null,
      "outputs": []
    }
  ]
}